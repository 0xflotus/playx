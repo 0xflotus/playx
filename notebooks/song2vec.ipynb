{
 "cells": [
  {
   "cell_type": "code",
   "execution_count": 28,
   "metadata": {},
   "outputs": [],
   "source": [
    "import nltk\n",
    "\n",
    "import matplotlib.pyplot as plt\n",
    "import numpy as np\n",
    "\n",
    "from collections import Counter\n",
    "import pathlib\n",
    "import re\n",
    "import random\n",
    "from gensim.models import Word2Vec\n",
    "\n",
    "%matplotlib inline"
   ]
  },
  {
   "cell_type": "markdown",
   "metadata": {},
   "source": [
    "## About The Experiment\n",
    "The idea is to make use of sequence of played songs for embeddings. Techinically, it's same (or similar) to Word Embeddings. But here, we treat each song as a single word. Hence, it's more profound to say it is **Item2Vec** instead of **Word2Vec**.\n",
    "\n",
    "When training is done, we will have songs that are played together to occupy similar point in the n-dimensional space. This technique is often used in recommendation system. So, here the process is merely an experiment for that.\n",
    "\n",
    "On a serious note, this process requires a large amount of data. For now, the data used it from log file at `~/.playx/logs/log.cat`. If data is not sufficient, the embeddings are not good enough for actual recommendations."
   ]
  },
  {
   "cell_type": "code",
   "execution_count": 29,
   "metadata": {},
   "outputs": [],
   "source": [
    "## the lines of code here are experimental and aren't of proper standards! \n",
    "## :/"
   ]
  },
  {
   "cell_type": "code",
   "execution_count": 30,
   "metadata": {},
   "outputs": [],
   "source": [
    "path = pathlib.Path(\"~/.playx/logs/log.cat\").expanduser()"
   ]
  },
  {
   "cell_type": "markdown",
   "metadata": {},
   "source": [
    "### Pre-process"
   ]
  },
  {
   "cell_type": "code",
   "execution_count": 31,
   "metadata": {},
   "outputs": [],
   "source": [
    "def remove_punct(string):\n",
    "    string = re.sub(r\"[']+\", '', string)\n",
    "    return re.sub(r\"[-:_!,/\\[\\].()#?;&]+\", ' ', string)\n",
    "\n",
    "def remove_multiple_spaces(string):\n",
    "    return re.sub(r'\\s+', ' ', string)"
   ]
  },
  {
   "cell_type": "markdown",
   "metadata": {},
   "source": [
    "### Data Loader\n",
    "This piece of code is taken from a module in `playx`. :/"
   ]
  },
  {
   "cell_type": "code",
   "execution_count": 32,
   "metadata": {},
   "outputs": [],
   "source": [
    "def get_timeseries_data(logpath):\n",
    "    data = []\n",
    "    with open(logpath) as f:\n",
    "        for line in f:\n",
    "            line = line.strip().lower()\n",
    "            if 'playing' not in line:\n",
    "                continue\n",
    "            matches = re.findall(r\"\\[.*?\\]\", line)\n",
    "            module, timestamp = matches[0], matches[1]\n",
    "            try:\n",
    "                song = matches[2]\n",
    "                ts = re.sub(r\"[\\[\\]]+\", '', timestamp).strip()\n",
    "                song = re.sub(r\"[\\[\\]]+\", '', song)\n",
    "                song = remove_punct(song)\n",
    "                song = remove_multiple_spaces(song).strip()\n",
    "                if song:\n",
    "                    data.append((ts, song))\n",
    "            except IndexError:\n",
    "                continue\n",
    "    return data"
   ]
  },
  {
   "cell_type": "code",
   "execution_count": 33,
   "metadata": {},
   "outputs": [],
   "source": [
    "data = get_timeseries_data(path)"
   ]
  },
  {
   "cell_type": "code",
   "execution_count": 34,
   "metadata": {},
   "outputs": [
    {
     "data": {
      "text/plain": [
       "[('2018-12-31 21:36:09,683', 'nirvana smells like teen spirit'),\n",
       " ('2019-01-01 08:05:06,277',\n",
       "  'nirvana the man who sold the world mtv unplugged'),\n",
       " ('2019-01-01 08:07:56,794', 'leonard cohen famous blue raincoat audio'),\n",
       " ('2019-01-01 08:08:26,593', 'gary jules mad world song + lyrics'),\n",
       " ('2019-01-01 08:08:26,712',\n",
       "  'the sound of silence original version from 1964')]"
      ]
     },
     "execution_count": 34,
     "metadata": {},
     "output_type": "execute_result"
    }
   ],
   "source": [
    "data[:5]"
   ]
  },
  {
   "cell_type": "code",
   "execution_count": 35,
   "metadata": {},
   "outputs": [],
   "source": [
    "ts, songs = zip(*data)"
   ]
  },
  {
   "cell_type": "code",
   "execution_count": 36,
   "metadata": {},
   "outputs": [
    {
     "data": {
      "text/plain": [
       "2212"
      ]
     },
     "execution_count": 36,
     "metadata": {},
     "output_type": "execute_result"
    }
   ],
   "source": [
    "len(songs)"
   ]
  },
  {
   "cell_type": "markdown",
   "metadata": {},
   "source": [
    "### Frequeny Test"
   ]
  },
  {
   "cell_type": "code",
   "execution_count": 37,
   "metadata": {},
   "outputs": [],
   "source": [
    "counter = Counter(songs)"
   ]
  },
  {
   "cell_type": "code",
   "execution_count": 38,
   "metadata": {},
   "outputs": [
    {
     "data": {
      "text/plain": [
       "[('bimbaakash khai lyrical video', 75),\n",
       " ('timecop1983 girl feat seawaves official video', 72),\n",
       " ('bimbaakash najeek lyrical video', 53),\n",
       " ('nirvana the man who sold the world mtv unplugged', 36),\n",
       " ('guthrie govan erotic cakes full album', 28),\n",
       " ('leonard cohen famous blue raincoat audio', 27),\n",
       " ('queen bohemian rhapsody official lyric video', 25),\n",
       " ('bimbaakash timi ra ma lyrical video', 22),\n",
       " ('the sound of silence original version from 1964', 21),\n",
       " ('jim croce time in a bottle 1973', 21)]"
      ]
     },
     "execution_count": 38,
     "metadata": {},
     "output_type": "execute_result"
    }
   ],
   "source": [
    "counter.most_common(10)"
   ]
  },
  {
   "cell_type": "code",
   "execution_count": 39,
   "metadata": {},
   "outputs": [],
   "source": [
    "songs_unique = list(set(songs))"
   ]
  },
  {
   "cell_type": "code",
   "execution_count": 40,
   "metadata": {},
   "outputs": [
    {
     "data": {
      "text/plain": [
       "830"
      ]
     },
     "execution_count": 40,
     "metadata": {},
     "output_type": "execute_result"
    }
   ],
   "source": [
    "len(songs_unique)"
   ]
  },
  {
   "cell_type": "code",
   "execution_count": 41,
   "metadata": {},
   "outputs": [
    {
     "data": {
      "text/plain": [
       "['pure narcotic porcupine tree',\n",
       " '6 the wall pink floyd mother',\n",
       " 'the paper kites holes',\n",
       " '10cc art for arts sake',\n",
       " 'guthrie govan erotic cakes full album']"
      ]
     },
     "execution_count": 41,
     "metadata": {},
     "output_type": "execute_result"
    }
   ],
   "source": [
    "songs_unique[:5]"
   ]
  },
  {
   "cell_type": "markdown",
   "metadata": {},
   "source": [
    "### Create Song-ID map"
   ]
  },
  {
   "cell_type": "code",
   "execution_count": 42,
   "metadata": {},
   "outputs": [],
   "source": [
    "def generate_song_to_id(unique):\n",
    "    res = {}\n",
    "    for i, song in enumerate(unique):\n",
    "        res[song] = i\n",
    "    return res"
   ]
  },
  {
   "cell_type": "code",
   "execution_count": 43,
   "metadata": {},
   "outputs": [
    {
     "data": {
      "text/plain": [
       "[('pure narcotic porcupine tree', 0),\n",
       " ('6 the wall pink floyd mother', 1),\n",
       " ('the paper kites holes', 2),\n",
       " ('10cc art for arts sake', 3),\n",
       " ('guthrie govan erotic cakes full album', 4)]"
      ]
     },
     "execution_count": 43,
     "metadata": {},
     "output_type": "execute_result"
    }
   ],
   "source": [
    "song_to_id = generate_song_to_id(songs_unique)\n",
    "list(song_to_id.items())[:5]"
   ]
  },
  {
   "cell_type": "code",
   "execution_count": 44,
   "metadata": {},
   "outputs": [],
   "source": [
    "def generate_id_sequence(song_to_id, songs):\n",
    "    res = []\n",
    "    for song in songs:\n",
    "        res.append(song_to_id[song])\n",
    "    return res"
   ]
  },
  {
   "cell_type": "code",
   "execution_count": 45,
   "metadata": {},
   "outputs": [],
   "source": [
    "song_ids = generate_id_sequence(song_to_id, songs)"
   ]
  },
  {
   "cell_type": "code",
   "execution_count": 46,
   "metadata": {},
   "outputs": [],
   "source": [
    "def generate_id_to_song(song_to_id):\n",
    "    return {\n",
    "        song_to_id[id]:id\n",
    "        for id in song_to_id\n",
    "    }"
   ]
  },
  {
   "cell_type": "code",
   "execution_count": 47,
   "metadata": {},
   "outputs": [],
   "source": [
    "id_to_song = generate_id_to_song(song_to_id)"
   ]
  },
  {
   "cell_type": "code",
   "execution_count": 48,
   "metadata": {},
   "outputs": [
    {
     "data": {
      "text/plain": [
       "[(0, 'pure narcotic porcupine tree'),\n",
       " (1, '6 the wall pink floyd mother'),\n",
       " (2, 'the paper kites holes'),\n",
       " (3, '10cc art for arts sake'),\n",
       " (4, 'guthrie govan erotic cakes full album')]"
      ]
     },
     "execution_count": 48,
     "metadata": {},
     "output_type": "execute_result"
    }
   ],
   "source": [
    "list(id_to_song.items())[:5]"
   ]
  },
  {
   "cell_type": "markdown",
   "metadata": {},
   "source": [
    "### Convert Song Names to IDs"
   ]
  },
  {
   "cell_type": "code",
   "execution_count": 49,
   "metadata": {},
   "outputs": [],
   "source": [
    "song_ids_sequence = [ str(sid) for sid in song_ids ]"
   ]
  },
  {
   "cell_type": "code",
   "execution_count": 50,
   "metadata": {},
   "outputs": [
    {
     "data": {
      "text/plain": [
       "['711', '541', '224', '103', '36']"
      ]
     },
     "execution_count": 50,
     "metadata": {},
     "output_type": "execute_result"
    }
   ],
   "source": [
    "song_ids_sequence[:5]"
   ]
  },
  {
   "cell_type": "markdown",
   "metadata": {},
   "source": [
    "### Train Word2Vec Model"
   ]
  },
  {
   "cell_type": "code",
   "execution_count": 53,
   "metadata": {},
   "outputs": [],
   "source": [
    "model = Word2Vec([song_ids_sequence], min_count=1, size=75, window=3, sg=1)"
   ]
  },
  {
   "cell_type": "code",
   "execution_count": 54,
   "metadata": {},
   "outputs": [
    {
     "name": "stdout",
     "output_type": "stream",
     "text": [
      "Word2Vec(vocab=830, size=75, alpha=0.025)\n"
     ]
    }
   ],
   "source": [
    "print(model)"
   ]
  },
  {
   "cell_type": "code",
   "execution_count": 55,
   "metadata": {},
   "outputs": [],
   "source": [
    "items = list(model.wv.vocab)"
   ]
  },
  {
   "cell_type": "code",
   "execution_count": 64,
   "metadata": {},
   "outputs": [
    {
     "data": {
      "text/plain": [
       "(629, 'the endless river | 14 talkin 39 hawkin 39 pink floyd mp3', 15)"
      ]
     },
     "execution_count": 64,
     "metadata": {},
     "output_type": "execute_result"
    }
   ],
   "source": [
    "# test\n",
    "# generate random song\n",
    "test_song = random.choice(counter.most_common(n=75))[0]\n",
    "test_id = song_to_id[test_song]\n",
    "# test_id = random.randint(0, len(items))\n",
    "song = id_to_song[test_id]\n",
    "test_id, song, counter[song]"
   ]
  },
  {
   "cell_type": "code",
   "execution_count": 65,
   "metadata": {},
   "outputs": [],
   "source": [
    "similar = model.wv.most_similar(positive=[str(test_id)], topn=10)"
   ]
  },
  {
   "cell_type": "code",
   "execution_count": 66,
   "metadata": {},
   "outputs": [
    {
     "name": "stdout",
     "output_type": "stream",
     "text": [
      "the endless river | 09 on noodle street pink floyd mp3\n",
      "the endless river | 16 eyes to pearls pink floyd mp3\n",
      "the endless river | 10 night light pink floyd mp3\n",
      "iron maiden phantom of the opera studio version\n",
      "the endless river | 06 unsung pink floyd mp3\n",
      "bring me the horizon mantra official audio\n",
      "the endless river | 11 allonsy 1 pink floyd mp3\n",
      "gary jules mad world song + lyrics\n",
      "iron maidendeja vu\n",
      "devin townsend project failure album track\n"
     ]
    }
   ],
   "source": [
    "for idx, val in similar:\n",
    "    print(id_to_song[int(idx)])"
   ]
  }
 ],
 "metadata": {
  "kernelspec": {
   "display_name": "Python 3",
   "language": "python",
   "name": "python3"
  },
  "language_info": {
   "codemirror_mode": {
    "name": "ipython",
    "version": 3
   },
   "file_extension": ".py",
   "mimetype": "text/x-python",
   "name": "python",
   "nbconvert_exporter": "python",
   "pygments_lexer": "ipython3",
   "version": "3.6.7"
  }
 },
 "nbformat": 4,
 "nbformat_minor": 2
}
