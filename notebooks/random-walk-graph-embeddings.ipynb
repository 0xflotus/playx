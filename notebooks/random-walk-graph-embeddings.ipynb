{
 "cells": [
  {
   "cell_type": "code",
   "execution_count": 1,
   "metadata": {},
   "outputs": [],
   "source": [
    "import nltk\n",
    "\n",
    "import matplotlib.pyplot as plt\n",
    "import numpy as np\n",
    "\n",
    "from collections import Counter\n",
    "import pathlib\n",
    "import re\n",
    "import random\n",
    "from gensim.models import Word2Vec\n",
    "\n",
    "%matplotlib inline"
   ]
  },
  {
   "cell_type": "markdown",
   "metadata": {},
   "source": [
    "## About The Experiment\n",
    "Just an item2vec for generating embeddings for each song.\n",
    "\n",
    "### Why Random Walk?\n",
    "Since the size of the actual data was quite low, we generate our own set using a random walk in the graph. Following steps loosely translates to the algorithm:\n",
    "\n",
    "**Load and Create Graph**\n",
    "- load the log\n",
    "- encode each unique song with a unique id\n",
    "- generate a trie data structure with each node as a single song from data \n",
    "- we have a dictionary-based graph strucuture \n",
    "\n",
    "**Walk Randomly**\n",
    "- select a random node from the graph\n",
    "- get next nodes (states)\n",
    "- choose the one with highest probability\n",
    "- repeat this for a fixed number of times\n",
    "- in the end, we have a sequence of nodes\n",
    "\n",
    "Note: We repeat this for a random number **n** times.\n",
    "\n",
    "**Generate Data**\n",
    "For certain number of generations (say ngen=15000), we keep on applying random walk. In the end we get the a list of list structure, with each row representing a sequence of nodes. Eg:\n",
    "```bash\n",
    "['142', '455', '109', '443'],\n",
    "['912', '538', '545', '536', '537'],\n",
    "['730', '732', '734', '736', '738'],\n",
    "['397', '248', '864', '674', '396', '395'],\n",
    "['703', '697', '115', '709', '89', '511']\n",
    " ```\n",
    " \n",
    "**Apply Word2Vec**\n",
    "Finally, generate word embeddings using word2vec using the generated data."
   ]
  },
  {
   "cell_type": "code",
   "execution_count": 2,
   "metadata": {},
   "outputs": [],
   "source": [
    "## the lines of code here are experimental and aren't of proper standards! \n",
    "## :/"
   ]
  },
  {
   "cell_type": "code",
   "execution_count": 3,
   "metadata": {},
   "outputs": [],
   "source": [
    "path = pathlib.Path(\"~/.playx/logs/log.cat\").expanduser()"
   ]
  },
  {
   "cell_type": "markdown",
   "metadata": {},
   "source": [
    "### Pre-process"
   ]
  },
  {
   "cell_type": "code",
   "execution_count": 4,
   "metadata": {},
   "outputs": [],
   "source": [
    "def remove_punct(string):\n",
    "    string = re.sub(r\"[']+\", '', string)\n",
    "    return re.sub(r\"[-:_!,/\\[\\].()#?;&]+\", ' ', string)\n",
    "\n",
    "def remove_multiple_spaces(string):\n",
    "    return re.sub(r'\\s+', ' ', string)"
   ]
  },
  {
   "cell_type": "markdown",
   "metadata": {},
   "source": [
    "### Data Loader\n",
    "This piece of code is taken from a module in `playx`. :/"
   ]
  },
  {
   "cell_type": "code",
   "execution_count": 5,
   "metadata": {},
   "outputs": [],
   "source": [
    "def get_timeseries_data(logpath):\n",
    "    data = []\n",
    "    with open(logpath) as f:\n",
    "        for line in f:\n",
    "            line = line.strip().lower()\n",
    "            if 'playing' not in line:\n",
    "                continue\n",
    "            matches = re.findall(r\"\\[.*?\\]\", line)\n",
    "            module, timestamp = matches[0], matches[1]\n",
    "            try:\n",
    "                song = matches[2]\n",
    "                ts = re.sub(r\"[\\[\\]]+\", '', timestamp).strip()\n",
    "                song = re.sub(r\"[\\[\\]]+\", '', song)\n",
    "                song = remove_punct(song)\n",
    "                song = remove_multiple_spaces(song).strip()\n",
    "                if song:\n",
    "                    data.append((ts, song))\n",
    "            except IndexError:\n",
    "                continue\n",
    "    return data"
   ]
  },
  {
   "cell_type": "code",
   "execution_count": 6,
   "metadata": {},
   "outputs": [],
   "source": [
    "data = get_timeseries_data(path)"
   ]
  },
  {
   "cell_type": "code",
   "execution_count": 7,
   "metadata": {},
   "outputs": [
    {
     "data": {
      "text/plain": [
       "[('2018-12-31 21:36:09,683', 'nirvana smells like teen spirit'),\n",
       " ('2019-01-01 08:05:06,277',\n",
       "  'nirvana the man who sold the world mtv unplugged'),\n",
       " ('2019-01-01 08:07:56,794', 'leonard cohen famous blue raincoat audio'),\n",
       " ('2019-01-01 08:08:26,593', 'gary jules mad world song + lyrics'),\n",
       " ('2019-01-01 08:08:26,712',\n",
       "  'the sound of silence original version from 1964')]"
      ]
     },
     "execution_count": 7,
     "metadata": {},
     "output_type": "execute_result"
    }
   ],
   "source": [
    "data[:5]"
   ]
  },
  {
   "cell_type": "code",
   "execution_count": 8,
   "metadata": {},
   "outputs": [],
   "source": [
    "ts, songs = zip(*data)"
   ]
  },
  {
   "cell_type": "code",
   "execution_count": 9,
   "metadata": {},
   "outputs": [
    {
     "data": {
      "text/plain": [
       "2357"
      ]
     },
     "execution_count": 9,
     "metadata": {},
     "output_type": "execute_result"
    }
   ],
   "source": [
    "len(songs)"
   ]
  },
  {
   "cell_type": "markdown",
   "metadata": {},
   "source": [
    "### Frequeny Test"
   ]
  },
  {
   "cell_type": "code",
   "execution_count": 10,
   "metadata": {},
   "outputs": [],
   "source": [
    "counter = Counter(songs)"
   ]
  },
  {
   "cell_type": "code",
   "execution_count": 11,
   "metadata": {},
   "outputs": [
    {
     "data": {
      "text/plain": [
       "[('bimbaakash khai lyrical video', 75),\n",
       " ('timecop1983 girl feat seawaves official video', 72),\n",
       " ('bimbaakash najeek lyrical video', 53),\n",
       " ('nirvana the man who sold the world mtv unplugged', 36),\n",
       " ('guthrie govan erotic cakes full album', 28),\n",
       " ('leonard cohen famous blue raincoat audio', 27),\n",
       " ('queen bohemian rhapsody official lyric video', 25),\n",
       " ('bimbaakash timi ra ma lyrical video', 22),\n",
       " ('the sound of silence original version from 1964', 21),\n",
       " ('jim croce time in a bottle 1973', 21)]"
      ]
     },
     "execution_count": 11,
     "metadata": {},
     "output_type": "execute_result"
    }
   ],
   "source": [
    "counter.most_common(10)"
   ]
  },
  {
   "cell_type": "code",
   "execution_count": 12,
   "metadata": {},
   "outputs": [],
   "source": [
    "songs_unique = list(set(songs))"
   ]
  },
  {
   "cell_type": "code",
   "execution_count": 13,
   "metadata": {},
   "outputs": [
    {
     "data": {
      "text/plain": [
       "916"
      ]
     },
     "execution_count": 13,
     "metadata": {},
     "output_type": "execute_result"
    }
   ],
   "source": [
    "len(songs_unique)"
   ]
  },
  {
   "cell_type": "code",
   "execution_count": 14,
   "metadata": {},
   "outputs": [
    {
     "data": {
      "text/plain": [
       "['ac dc happy new year have a drink on me',\n",
       " 'the pineapple thief the one you left to die mp3',\n",
       " 'aerosmith rag doll',\n",
       " 'fight song rachel platten | lyrics',\n",
       " 'rishloo dark charade']"
      ]
     },
     "execution_count": 14,
     "metadata": {},
     "output_type": "execute_result"
    }
   ],
   "source": [
    "songs_unique[:5]"
   ]
  },
  {
   "cell_type": "markdown",
   "metadata": {},
   "source": [
    "### Create Song-ID map"
   ]
  },
  {
   "cell_type": "code",
   "execution_count": 15,
   "metadata": {},
   "outputs": [],
   "source": [
    "def map_song_to_id(unique):\n",
    "    \"\"\"\n",
    "        Assign each song a unique ID\n",
    "    \"\"\"\n",
    "    unique = sorted(unique)\n",
    "    res = {}\n",
    "    for i, song in enumerate(unique):\n",
    "        res[song] = str(i)\n",
    "    return res"
   ]
  },
  {
   "cell_type": "code",
   "execution_count": 16,
   "metadata": {},
   "outputs": [
    {
     "data": {
      "text/plain": [
       "[('\"the cave\" mumford sons official lyrics', '0'),\n",
       " ('01 dirty deeds done dirt cheap', '1'),\n",
       " ('10cc art for arts sake', '2'),\n",
       " ('22 the wall pink floyd run like hell', '3'),\n",
       " ('3 doors down kryptonite lyrics', '4')]"
      ]
     },
     "execution_count": 16,
     "metadata": {},
     "output_type": "execute_result"
    }
   ],
   "source": [
    "song_to_idx = map_song_to_id(songs_unique)\n",
    "list(song_to_idx.items())[:5]"
   ]
  },
  {
   "cell_type": "code",
   "execution_count": 17,
   "metadata": {},
   "outputs": [],
   "source": [
    "def map_id_to_song(song_to_idx):\n",
    "    \"\"\"\n",
    "        Reverse the song_to_idx map\n",
    "    \"\"\"\n",
    "    return {idx:song for song, idx in song_to_idx.items()}"
   ]
  },
  {
   "cell_type": "code",
   "execution_count": 18,
   "metadata": {},
   "outputs": [],
   "source": [
    "idx_to_song = map_id_to_song(song_to_idx)"
   ]
  },
  {
   "cell_type": "code",
   "execution_count": 19,
   "metadata": {},
   "outputs": [
    {
     "data": {
      "text/plain": [
       "[('0', '\"the cave\" mumford sons official lyrics'),\n",
       " ('1', '01 dirty deeds done dirt cheap'),\n",
       " ('2', '10cc art for arts sake'),\n",
       " ('3', '22 the wall pink floyd run like hell'),\n",
       " ('4', '3 doors down kryptonite lyrics')]"
      ]
     },
     "execution_count": 19,
     "metadata": {},
     "output_type": "execute_result"
    }
   ],
   "source": [
    "list(idx_to_song.items())[:5]"
   ]
  },
  {
   "cell_type": "markdown",
   "metadata": {},
   "source": [
    "### Encode\n",
    "Encode the songs in the log to IDs. This is done for easeness."
   ]
  },
  {
   "cell_type": "code",
   "execution_count": 20,
   "metadata": {},
   "outputs": [],
   "source": [
    "def encode(song_to_idx, songs):\n",
    "    res = []\n",
    "    for song in songs:\n",
    "        res.append(song_to_idx[song])\n",
    "    return res"
   ]
  },
  {
   "cell_type": "code",
   "execution_count": 21,
   "metadata": {},
   "outputs": [],
   "source": [
    "sequence_encoded = encode(song_to_idx, songs)"
   ]
  },
  {
   "cell_type": "code",
   "execution_count": 22,
   "metadata": {},
   "outputs": [
    {
     "data": {
      "text/plain": [
       "(2357, 2357)"
      ]
     },
     "execution_count": 22,
     "metadata": {},
     "output_type": "execute_result"
    }
   ],
   "source": [
    "len(sequence_encoded), len(songs)"
   ]
  },
  {
   "cell_type": "code",
   "execution_count": 23,
   "metadata": {},
   "outputs": [
    {
     "data": {
      "text/plain": [
       "(['445', '446', '398', '249', '865'],\n",
       " ['nirvana smells like teen spirit',\n",
       "  'nirvana the man who sold the world mtv unplugged',\n",
       "  'leonard cohen famous blue raincoat audio',\n",
       "  'gary jules mad world song + lyrics',\n",
       "  'the sound of silence original version from 1964'])"
      ]
     },
     "execution_count": 23,
     "metadata": {},
     "output_type": "execute_result"
    }
   ],
   "source": [
    "sequence_encoded[:5], [idx_to_song[idx] for idx in sequence_encoded[:5] ]"
   ]
  },
  {
   "cell_type": "markdown",
   "metadata": {},
   "source": [
    "### Build Trie"
   ]
  },
  {
   "cell_type": "code",
   "execution_count": 24,
   "metadata": {},
   "outputs": [],
   "source": [
    "pairs = list(zip(sequence_encoded, sequence_encoded[1:]))"
   ]
  },
  {
   "cell_type": "code",
   "execution_count": 25,
   "metadata": {},
   "outputs": [
    {
     "data": {
      "text/plain": [
       "[('445', '446'),\n",
       " ('446', '398'),\n",
       " ('398', '249'),\n",
       " ('249', '865'),\n",
       " ('865', '675')]"
      ]
     },
     "execution_count": 25,
     "metadata": {},
     "output_type": "execute_result"
    }
   ],
   "source": [
    "pairs[:5]"
   ]
  },
  {
   "cell_type": "code",
   "execution_count": 26,
   "metadata": {},
   "outputs": [],
   "source": [
    "def build_trie(pairs):\n",
    "    trie = {}\n",
    "    for pair in pairs:\n",
    "        a, b = pair\n",
    "        if a not in trie:\n",
    "            trie[a] = {}\n",
    "        if b not in trie[a]:\n",
    "            trie[a][b] = 1\n",
    "        else:\n",
    "            trie[a][b] += 1\n",
    "    return trie"
   ]
  },
  {
   "cell_type": "code",
   "execution_count": 27,
   "metadata": {},
   "outputs": [],
   "source": [
    "trie = build_trie(pairs)"
   ]
  },
  {
   "cell_type": "code",
   "execution_count": 28,
   "metadata": {},
   "outputs": [],
   "source": [
    "def build_probabilities(trie):\n",
    "    for word, following in trie.items():\n",
    "        total = sum(following.values())\n",
    "        for key in following:\n",
    "            following[key] /= total\n",
    "    return trie"
   ]
  },
  {
   "cell_type": "code",
   "execution_count": 29,
   "metadata": {},
   "outputs": [],
   "source": [
    "trie = build_probabilities(trie)"
   ]
  },
  {
   "cell_type": "code",
   "execution_count": 30,
   "metadata": {},
   "outputs": [
    {
     "data": {
      "text/plain": [
       "[('445', {'446': 0.5, '350': 0.25, '266': 0.25}),\n",
       " ('446',\n",
       "  {'398': 0.3888888888888889,\n",
       "   '446': 0.16666666666666666,\n",
       "   '340': 0.05555555555555555,\n",
       "   '402': 0.027777777777777776,\n",
       "   '868': 0.1388888888888889,\n",
       "   '674': 0.1111111111111111,\n",
       "   '549': 0.027777777777777776,\n",
       "   '300': 0.027777777777777776,\n",
       "   '282': 0.027777777777777776,\n",
       "   '9': 0.027777777777777776}),\n",
       " ('398',\n",
       "  {'249': 0.6296296296296297,\n",
       "   '398': 0.1111111111111111,\n",
       "   '117': 0.037037037037037035,\n",
       "   '868': 0.037037037037037035,\n",
       "   '561': 0.037037037037037035,\n",
       "   '250': 0.037037037037037035,\n",
       "   '394': 0.037037037037037035,\n",
       "   '129': 0.037037037037037035,\n",
       "   '408': 0.037037037037037035}),\n",
       " ('249', {'865': 0.8, '249': 0.15, '398': 0.05}),\n",
       " ('865',\n",
       "  {'675': 0.3333333333333333,\n",
       "   '865': 0.14285714285714285,\n",
       "   '507': 0.047619047619047616,\n",
       "   '117': 0.047619047619047616,\n",
       "   '868': 0.047619047619047616,\n",
       "   '363': 0.3333333333333333,\n",
       "   '119': 0.047619047619047616})]"
      ]
     },
     "execution_count": 30,
     "metadata": {},
     "output_type": "execute_result"
    }
   ],
   "source": [
    "list(trie.items())[:5]"
   ]
  },
  {
   "cell_type": "markdown",
   "metadata": {},
   "source": [
    "### Walk Randomly :/"
   ]
  },
  {
   "cell_type": "code",
   "execution_count": 31,
   "metadata": {},
   "outputs": [],
   "source": [
    "import random"
   ]
  },
  {
   "cell_type": "code",
   "execution_count": 32,
   "metadata": {},
   "outputs": [],
   "source": [
    "nseq = 10"
   ]
  },
  {
   "cell_type": "code",
   "execution_count": 33,
   "metadata": {},
   "outputs": [],
   "source": [
    "def walk_randomly(trie, sequence_encoded):\n",
    "    \"\"\"\n",
    "        Be fully drunk and just walk within the graph.\n",
    "    \"\"\"\n",
    "    node = random.choice(sequence_encoded)\n",
    "    res = [node]\n",
    "    n = random.choice(range(2, 7))\n",
    "    for i in range(n):\n",
    "        #print(\"Current node :: {}\".format(node))\n",
    "        next_nodes = trie.get(node, [])\n",
    "        if not next_nodes:\n",
    "            break\n",
    "        next_nodes = sorted(next_nodes.items(), key=lambda x : x[1], reverse=True)\n",
    "        nodes, probs = zip(*next_nodes)\n",
    "#         node = next_nodes[0][0]\n",
    "        node = np.random.choice(nodes, p=probs)\n",
    "#         if node in res:\n",
    "#             break\n",
    "        res.append(node)\n",
    "    return res"
   ]
  },
  {
   "cell_type": "code",
   "execution_count": 34,
   "metadata": {},
   "outputs": [
    {
     "data": {
      "text/plain": [
       "['205', '209', '207', '211']"
      ]
     },
     "execution_count": 34,
     "metadata": {},
     "output_type": "execute_result"
    }
   ],
   "source": [
    "walk_randomly(trie, sequence_encoded)"
   ]
  },
  {
   "cell_type": "code",
   "execution_count": 35,
   "metadata": {},
   "outputs": [],
   "source": [
    "N = 20000\n",
    "data_walked = [walk_randomly(trie, sequence_encoded) for i in range(N)]"
   ]
  },
  {
   "cell_type": "code",
   "execution_count": 36,
   "metadata": {},
   "outputs": [
    {
     "data": {
      "text/plain": [
       "[['763', '413', '729', '731'],\n",
       " ['399', '394', '398'],\n",
       " ['342', '349', '338', '353', '354', '348', '445'],\n",
       " ['595', '610', '602', '592', '607', '606'],\n",
       " ['763', '205', '209', '207', '211', '205']]"
      ]
     },
     "execution_count": 36,
     "metadata": {},
     "output_type": "execute_result"
    }
   ],
   "source": [
    "data_walked[:5]"
   ]
  },
  {
   "cell_type": "markdown",
   "metadata": {},
   "source": [
    "## Generate Embeddings"
   ]
  },
  {
   "cell_type": "code",
   "execution_count": 37,
   "metadata": {},
   "outputs": [],
   "source": [
    "model = Word2Vec(data_walked, min_count=1, size=100, window=3, sg=1)"
   ]
  },
  {
   "cell_type": "code",
   "execution_count": 38,
   "metadata": {},
   "outputs": [
    {
     "name": "stdout",
     "output_type": "stream",
     "text": [
      "Word2Vec(vocab=916, size=100, alpha=0.025)\n"
     ]
    }
   ],
   "source": [
    "print(model)"
   ]
  },
  {
   "cell_type": "code",
   "execution_count": 39,
   "metadata": {},
   "outputs": [
    {
     "data": {
      "text/plain": [
       "(916, 916)"
      ]
     },
     "execution_count": 39,
     "metadata": {},
     "output_type": "execute_result"
    }
   ],
   "source": [
    "items = list(model.wv.vocab)\n",
    "len(items), len(songs_unique)"
   ]
  },
  {
   "cell_type": "markdown",
   "metadata": {},
   "source": [
    "## Test Similarity"
   ]
  },
  {
   "cell_type": "code",
   "execution_count": 43,
   "metadata": {},
   "outputs": [
    {
     "data": {
      "text/plain": [
       "('567', 'quot white rabbit quot jefferson airplane lyrics mp3', 2)"
      ]
     },
     "execution_count": 43,
     "metadata": {},
     "output_type": "execute_result"
    }
   ],
   "source": [
    "# generate random song\n",
    "test_song = random.choice(counter.most_common(n=300))[0]\n",
    "test_id = song_to_idx[test_song]\n",
    "# test_id = random.randint(0, len(items))\n",
    "song = idx_to_song[test_id]\n",
    "test_id, song, counter[song]"
   ]
  },
  {
   "cell_type": "code",
   "execution_count": 44,
   "metadata": {},
   "outputs": [],
   "source": [
    "similar = model.wv.most_similar(positive=[test_id], topn=10)"
   ]
  },
  {
   "cell_type": "code",
   "execution_count": 45,
   "metadata": {},
   "outputs": [
    {
     "name": "stdout",
     "output_type": "stream",
     "text": [
      "quot white rabbit quot jefferson airplane lyrics\n",
      "karen dalton something on your mind\n",
      "gary julesmad world song + lyrics mp3\n",
      "karen dalton it hurts me too sub\n",
      "hope sandoval amp the warm inventions on the low\n",
      "leonard cohen famous blue raincoat audio mp3\n",
      "hope sandoval and the warm inventions trouble official music video\n",
      "gary julesmad world song + lyrics\n",
      "leonard cohen a thousand kisses deep lyrics hd\n",
      "hope sandoval amp the warm inventions let me get there ft kurt vile\n"
     ]
    }
   ],
   "source": [
    "for idx, val in similar:\n",
    "    print(idx_to_song[idx])"
   ]
  },
  {
   "cell_type": "code",
   "execution_count": null,
   "metadata": {},
   "outputs": [],
   "source": []
  }
 ],
 "metadata": {
  "kernelspec": {
   "display_name": "Python 3",
   "language": "python",
   "name": "python3"
  },
  "language_info": {
   "codemirror_mode": {
    "name": "ipython",
    "version": 3
   },
   "file_extension": ".py",
   "mimetype": "text/x-python",
   "name": "python",
   "nbconvert_exporter": "python",
   "pygments_lexer": "ipython3",
   "version": "3.6.7"
  }
 },
 "nbformat": 4,
 "nbformat_minor": 2
}
